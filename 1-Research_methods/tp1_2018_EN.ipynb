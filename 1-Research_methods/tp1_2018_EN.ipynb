{
 "cells": [
  {
   "cell_type": "markdown",
   "metadata": {
    "colab_type": "text",
    "id": "7cRcaduOsoAJ"
   },
   "source": [
    "# INF 8215 - Intelligence artif.: méthodes et algorithmes \n",
    "## Fall 2018 - TP1 - Research Methods \n",
    "### Team Components\n",
    "    - David-Alexandre Beaupré - 1738405\n",
    "    - Rémi Croteau - 1773718\n",
    "    - Gabriel Descôteaux - 1736469\n",
    "\n"
   ]
  },
  {
   "cell_type": "markdown",
   "metadata": {
    "colab_type": "text",
    "id": "GoJ5Y8SZsoAM"
   },
   "source": [
    "## Biking in Montreal\n",
    "Approximately 10 million tourists visit Montreal every year. Concerned in providing the best experience during their stay, the tourism department of the city has initialized the development of a new application to help the visitors meet the main touristic attractions of the city in the shortest amount of time. They discovered that, when visiting the city’s attractions, the preferred mean of transportation adopted by the tourists is the bicycle. However, since the tourists do not know the city very well, they usually struggle to create their route in order to visit the planned sights for the day. Thus, given a list of places that the tourist wants to visit, including a starting and ending location, the new application determines the itinerary that passes only once in all attractions defined by the user such that the time spent within his/her route is minimum. \n",
    "\n",
    "<img src=\"images/montreal.png\" alt=\"\" width=\"800\"/>\n",
    "\n",
    "Our job in this TP is to develop this new application. To this end, we will address the problem using three different research methods:\n",
    "1. The first methodology works by defining and exploring a search tree in order to find the route with minimum time\n",
    "2. Next, an A* algorithm will be designed to search the optimal route in this search tree more efficiently \n",
    "3. Last, a heuristic procedure will be created using the Variable Neighborhood Search (VNS) metaheuristic to optimize the problem\n",
    "\n",
    "## Problem representation\n",
    "\n",
    "We can represent our problem using a directed and complete graph, $G(V, A)$, where each city attraction is represented by a vertex in the set of vertices $V$, and $A$ is the set of arcs representing the bicycle path between two attractions. Each arc $a_{ij} \\in A$ has a cost $ w(a_{ij}) $ associated with the time spent on the path from attraction $i$ to attraction $j$. However, it is worth mentioning that the times are not symmetric, hence, is **not** guaranteed that $w(a_{ij}) = w(a_{ji})$. \n",
    "\n",
    "The user of the tool informs the list of $m$ attractions that he/she wishes to visit, $P = \\{p_1,...,p_m\\} $, where $p_1$ and $p_m$ are the starting and ending attractions, respectively.\n",
    "\n",
    "## 1. Defining and exploring a search tree (5 points)\n",
    "\n",
    "Let us define a search tree, $\\mathcal{T}$, where each node of this tree represents a solution $S$ that is being built. Moreover, let $V(S) \\subseteq V$ be the set of vertices already **visited** and $A(S) \\subset A$ the set of arcs already **selected**. Thus, the cost of $S$ is given by\n",
    "\n",
    "$$g(S) = \\sum_{a \\in A(S)} w(a)$$\n",
    "\n",
    "The root node of the search tree $\\mathcal{T}$ is a solution $S_{root}$ containing only the starting vertex marked as visited, i.e., $V(S_{root})=\\{p_1\\}$ and $A(S_{root}) = \\emptyset$.\n",
    "\n",
    "<img src=\"images/tree1.png\" alt=\"\" width=\"100\"/>\n",
    "\n",
    "Then, children nodes are created by adding an arc from $p_1$ to every vertex $ v \\in P\\backslash V(S_{root})$. However, an arc to the ending attraction can only be added if $p_m$ is the only vertex not visited yet. We denote the new visited vertex as $c$, the current vertex of the solution, i.e., $V(S) \\gets V(S) \\cup \\{c\\}$. \n",
    "\n",
    "<img src=\"images/tree2.png\" alt=\"\" width=\"400\"/>\n",
    "\n",
    "Next, each child node similarly generates its children. For a given child solution $S$ with last added vertex $c$, we add an arc $(c, v)$ to every vertex $v \\in P\\backslash V(S)$. The constraint to add vertex $p_m$ to the solution is kept during the entire process.\n",
    "\n",
    "<img src=\"images/tree3.png\" alt=\"\" width=\"600\"/>\n",
    "\n",
    "The leaf nodes are complete solutions, i.e., $V(S) = P$, with $p_m$ being the last attraction added to the itinerary.  \n",
    "\n",
    "### 1.1 Time to code\n",
    "\n",
    "The code cell below is provided to you with a function to read the graph representing the attractions of Montreal. The function $\\mathtt{read\\_graph}$ returns a numpy array object $|V|\\times |V|$ where the entry $\\mathtt{graph[i,j]}$ contains the time spent biking from attraction $i$ to attraction $j$.\n",
    "\n"
   ]
  },
  {
   "cell_type": "code",
   "execution_count": 1,
   "metadata": {},
   "outputs": [],
   "source": [
    "import numpy as np\n",
    "\n",
    "def read_graph():\n",
    "    return np.loadtxt(\"montreal\", dtype='i', delimiter=',')\n",
    "\n",
    "graph = read_graph()"
   ]
  },
  {
   "cell_type": "markdown",
   "metadata": {},
   "source": [
    "Our first implementation task is to code the class that represents a solution. The code of class Solution below has a constructor (already implemented) that receives the list of $\\mathtt{places}$ representing the set of attractions $P$ and the graph $G$, and creates a blank solution by initializing the following variables:\n",
    "\n",
    "- $\\mathtt{g}$: stores the cost of the solution\n",
    "- $\\mathtt{c}$: indicate the index of the current (last added) vertex of the solution\n",
    "- $\\mathtt{V}$: a list representing $V(S)$\n",
    "- $\\mathtt{unvisited}$: a list representing $P\\backslash V(S)$\n",
    "\n",
    "Alongside the constructor, there is the method $\\mathtt{add}$ which is responsible for adding an arc into the solution. This method receives the index from the $\\mathtt{unvisited}$ list indicating the attraction that will be added. This method also updates the $\\mathtt{V}$ and $\\mathtt{unvisited}$ lists, as well the cost of the solution and vertex $c$.\n",
    "\n",
    "Now, implement the method $\\mathtt{add}$ below."
   ]
  },
  {
   "cell_type": "code",
   "execution_count": 2,
   "metadata": {},
   "outputs": [],
   "source": [
    "import copy\n",
    "\n",
    "MAX = np.iinfo(np.int32).max\n",
    "\n",
    "# other classes useful for Edmond's algorithm implementation\n",
    "class Node:\n",
    "    def __init__(self, id):\n",
    "        self.id = id\n",
    "\n",
    "\n",
    "class Edge:\n",
    "    def __init__(self, id, start, end, cost):\n",
    "        self.id = id\n",
    "        self.start = start\n",
    "        self.end = end\n",
    "        self.cost = cost\n",
    "\n",
    "    def update(self, id, start, end, cost):\n",
    "        self.id = id\n",
    "        self.start = start\n",
    "        self.end = end\n",
    "        self.cost = cost\n",
    "\n",
    "\n",
    "class Tree:\n",
    "    def __init__(self, nodes=set(), edges=set()):\n",
    "        self.nodes = nodes\n",
    "        self.edges = edges\n",
    "\n",
    "    def add_node(self, node):\n",
    "        for vertex in self.nodes:\n",
    "            if vertex.id == node.id:\n",
    "                raise Exception('Node already there')\n",
    "        self.nodes.add(node)\n",
    "\n",
    "    def add_edge(self, edge):\n",
    "        if edge.start in self.nodes and edge.end in self.nodes:\n",
    "            for arc in self.edges:\n",
    "                if arc.start == edge.start and arc.end == edge.end or arc.id == edge.id:\n",
    "                    raise Exception('Edge already exists')\n",
    "            self.edges.add(edge)\n",
    "        else:\n",
    "            raise Exception(\"Edge not present in nodes\")\n",
    "\n",
    "\n",
    "class Solution:\n",
    "    def __init__(self, places, graph):\n",
    "        \"\"\"\n",
    "        places: a list containing the indices of attractions to visit\n",
    "        p1 = places[0]\n",
    "        pm = places[-1]\n",
    "        \"\"\"\n",
    "        self.g = 0  # current cost\n",
    "        self.h = 0  # heuristic\n",
    "        self.graph = graph\n",
    "        self.visited = [places[0]]  # list of already visited attractions\n",
    "        self.not_visited = copy.deepcopy(places[1:])  # list of attractions not yet visited\n",
    "\n",
    "    def __lt__(self, other):\n",
    "        return self.g + self.h < other.g + other.h\n",
    "\n",
    "    def add(self, idx):\n",
    "        \"\"\"\n",
    "        Adds the point in position idx of not_visited list to the solution\n",
    "        \"\"\"\n",
    "        node = self.not_visited[idx]\n",
    "        last_node = self.visited[-1]\n",
    "\n",
    "        self.visited.append(node)\n",
    "        self.not_visited.remove(node)\n",
    "        self.g += self.graph[last_node, node]\n",
    "\n",
    "    def swap(self, id1, id2):\n",
    "        \"\"\"\n",
    "        Swaps indices and updates solution\n",
    "        \"\"\"\n",
    "        temp_node = self.visited[id1]\n",
    "        self.visited[id1] = self.visited[id2]\n",
    "        self.visited[id2] = temp_node\n",
    "\n",
    "        self.g = 0\n",
    "        for idx in range(0, len(self.visited) -1):\n",
    "            self.g += self.graph[self.visited[idx], self.visited[idx + 1]]"
   ]
  },
  {
   "cell_type": "markdown",
   "metadata": {},
   "source": [
    "Our next step is to implement a research method to find the best solution in the search tree. A simple strategy to this end would be a [Breadth-first search](https://moodle.polymtl.ca/pluginfile.php/444662/mod_resource/content/1/recherche_en_largeur.mp4) (BFS), which explores the nodes in the sequence as they are scanned using a queue data structure. \n",
    "\n",
    "Now, implement the $\\mathtt{bfs}$ method below that receives the graph and the list of attractions and returns the solution with minimum cost.  "
   ]
  },
  {
   "cell_type": "code",
   "execution_count": 3,
   "metadata": {},
   "outputs": [],
   "source": [
    "from queue import Queue\n",
    "\n",
    "def bfs(graph, places):\n",
    "    \"\"\"\n",
    "    Returns the best solution which spans over all attractions indicated in 'places'\n",
    "    \"\"\"\n",
    "    solution = Solution(places, graph)\n",
    "    return_sol = copy.deepcopy(solution)\n",
    "    return_sol.g = np.iinfo(np.int32).max\n",
    "    solutions = Queue()\n",
    "    solutions.put(solution)\n",
    "    while not solutions.empty():\n",
    "        current_solution = solutions.get()\n",
    "\n",
    "        if len(current_solution.visited) == len(places) - 1:\n",
    "            current_solution.add(0)\n",
    "            solutions.put(current_solution)\n",
    "        elif len(current_solution.visited) == len(places) and current_solution.g < return_sol.g:\n",
    "            return_sol = current_solution\n",
    "        else:\n",
    "            for idx in range(0, len(current_solution.not_visited) - 1):\n",
    "                new_sol = copy.deepcopy(current_solution)\n",
    "                new_sol.add(idx)\n",
    "                solutions.put(new_sol)\n",
    "\n",
    "    return return_sol\n",
    "    "
   ]
  },
  {
   "cell_type": "markdown",
   "metadata": {},
   "source": [
    "### 1.2 Experiments\n",
    "\n",
    "We propose three illustrative examples to test our search in width. The first example takes into account 7 attractions, the second 10 and the last 11. Since this research lists all possible solutions, the third example may take a considerable time to complete.\n",
    "\n",
    "Implement these experiments and report the number of nodes explored as well as the required computing time."
   ]
  },
  {
   "cell_type": "code",
   "execution_count": 4,
   "metadata": {
    "colab": {},
    "colab_type": "code",
    "id": "H1lFkJPJBcR3"
   },
   "outputs": [
    {
     "name": "stdout",
     "output_type": "stream",
     "text": [
      "27\n",
      "--- 0.06397795677185059 seconds ---\n"
     ]
    }
   ],
   "source": [
    "import time \n",
    "\n",
    "#test 1  --------------  OPT. SOL. = 27\n",
    "start_time = time.time()\n",
    "places=[0, 5, 13, 16, 6, 9, 4]\n",
    "sol = bfs(graph=graph, places=places)\n",
    "print(sol.g)\n",
    "print(\"--- %s seconds ---\" % (time.time() - start_time))"
   ]
  },
  {
   "cell_type": "code",
   "execution_count": 5,
   "metadata": {
    "colab": {},
    "colab_type": "code",
    "id": "Yn9mUPhBB9hv"
   },
   "outputs": [
    {
     "name": "stdout",
     "output_type": "stream",
     "text": [
      "30\n",
      "--- 4.964068651199341 seconds ---\n"
     ]
    }
   ],
   "source": [
    "#test 2 -------------- OPT. SOL. = 30\n",
    "start_time = time.time()\n",
    "places=[0, 1, 4, 9, 20, 18, 16, 5, 13, 19]\n",
    "sol = bfs(graph=graph, places=places)\n",
    "print(sol.g)\n",
    "print(\"--- %s seconds ---\" % (time.time() - start_time))"
   ]
  },
  {
   "cell_type": "code",
   "execution_count": 6,
   "metadata": {},
   "outputs": [
    {
     "name": "stdout",
     "output_type": "stream",
     "text": [
      "26\n",
      "--- 41.49147152900696 seconds ---\n"
     ]
    }
   ],
   "source": [
    "#test 3 -------------- OPT. SOL. = 26\n",
    "start_time = time.time()\n",
    "places=[0, 2, 7, 13, 11, 16, 15, 7, 9, 8, 4]\n",
    "sol = bfs(graph=graph, places=places)\n",
    "print(sol.g)\n",
    "print(\"--- %s seconds ---\" % (time.time() - start_time))"
   ]
  },
  {
   "cell_type": "markdown",
   "metadata": {},
   "source": [
    "## 2. Solving with an A* algorithm (7.5 points)\n",
    "\n",
    "For our second research method, instead of enumerating all solutions, we intend to guide the search by evaluating the potential of each node of the search tree, prioritizing the solutions with lower estimate costs. To this purpose, each solution $S$ is evaluated by the heuristic function $f(S) = g(S) + h(S) $ that takes into consideration both the current cost of $S$, $g(S)$, and an estimate of the cost (lower bound), $h(S)$, to visit the ending attraction $p_m$ from $S$.\n",
    "\n",
    "For a given solution $S$, with $ c $ being the last added vertex to $V(S)$, the function $h$ could be defined as:\n",
    "\n",
    "$$h(S) = \\text{the shortest path from } c \\text{ to } p_m \\text{ in the graph } G_S  \\text{ induced by the set of vertices } P\\backslash V(S) \\cup \\{c\\} $$\n",
    "\n",
    "In other words, $h(s)$ is a lower bound to the time required to the tourist to arrive at the last attraction, $p_m$, from the current attraction, $c$, passing only through attractions of $P$ still not visited.\n",
    "\n",
    "\n",
    "Hence, we can design our A* algorithm dividing it into the following steps:\n",
    "\n",
    "1. As prevously done, the search tree $\\mathcal{T}$ is initialized with a root solution $S_{root}$ that contains only the starting point, i.e., $V(S_{root}) = p_1, A(S_{root}) = \\emptyset $ and $ c = p_1 $.  The cost of this initial solution is $ g(S_{root}) = 0 $. The estimative for this root solution is not important and can be discarded ($h(S_{root}) = 0 $).\n",
    "\n",
    "2. Select the solution $S_b$ of  $\\mathcal{T}$ that minimizes the heuristic function $f$:\n",
    "$$ f(S_b) \\leq f(S) \\quad \\forall S \\in \\mathcal{T} \\qquad S_B, S \\text{ are nodes of } \\mathcal{T} \\text{ not yet selected}$$\n",
    "Note that, at the first iteration, only the $S_{root}$ is present in $\\mathcal{T}$ and, thus, it will be selected. If $S_b$ is complete, then the optimal solution of the problem is found, and the algorithm ends. Otherwise, the algorithm proceeds normally to step 3.\n",
    "\n",
    "3. Let $c$ be the last visited vertex in $S_b$. For each vertex $ v \\in P\\backslash V(S_b) $, perform the following tasks:\n",
    "  - Create a new solution $S_n$ by adding the arc $ (c, v) $ to the solution\n",
    "  - Update the sets $V(S_n)$ and $A(S_n)$;\n",
    "  - Compute $g(S_n)$ and $h(S_n)$;\n",
    "  - Insert $S_n$ as a new child node in $\\mathcal{T}$\n",
    "  \n",
    "  The vertex $v = p_m$ can be only added to a new solution if it is the only vertex remaining in the set $ P\\backslash V(S_b)$. \n",
    "\n",
    "4. Repeat steps 2 and 3 until the selected solution $S_b$ is **complete**, i.e., $V(S_B) = P$.\n",
    "\n",
    "### 2.1 Time to code\n",
    "\n",
    "Our first implementation task is to increment the code of the class Solution. As we shall see later, a priority queue (heap) is going to be used to implement the search tree T, instead of an ordinary queue previously used. Then, we must prepare the class Solution with a method able to compare two solutions. This is done with the method $\\_\\_\\mathtt{lt}\\_\\_\\mathtt{(self, other)}$ which must return true if $f(self) < f(other)$.\n",
    "\n",
    "Now, implement the function $\\_\\_\\mathtt{lt}\\_\\_\\mathtt{(self, other)}$ in the class Solution.\n",
    "\n",
    "Following that, the next step is to implement the estimation function. To compute the fastest path between two vertices of a graph we can use the [Dijkstra algorithm](https://en.wikipedia.org/wiki/Dijkstra%27s_algorithm) where the source node is the last added vertex, $c$. The Dijkstra algorithm can be adapted to finish as soon as the fastest path to vertex $p_m$ is found.\n",
    "\n",
    "**Implementation guidelines**:\n",
    "  - Apply the Dijkstra algorithm to find the fastest path from $c$ to $p_m$.\n",
    "  - Return the time spent in the path found."
   ]
  },
  {
   "cell_type": "code",
   "execution_count": 7,
   "metadata": {
    "colab": {},
    "colab_type": "code",
    "id": "PxRTHhZmNEOB"
   },
   "outputs": [],
   "source": [
    "import heapq\n",
    "\n",
    "def fastest_path_estimation(sol):\n",
    "    \"\"\"\n",
    "    Returns the time spent on the fastest path between\n",
    "    the current vertex c and the ending vertex pm\n",
    "    \"\"\"\n",
    "    c = sol.visited[-1]\n",
    "    if not sol.not_visited:\n",
    "        return 0\n",
    "    pm = sol.not_visited[-1]\n",
    "    nodes_to_visit = set(sol.not_visited)\n",
    "    distances = {}\n",
    "    for node in nodes_to_visit:\n",
    "        distances[node] = np.iinfo(np.int32).max\n",
    "    nodes_to_visit.add(c)\n",
    "    distances[c] = 0\n",
    "    while len(nodes_to_visit) > 0:\n",
    "        min_node = min(nodes_to_visit, key=lambda k: distances[k])\n",
    "        if min_node == pm:\n",
    "            return distances[pm]\n",
    "        nodes_to_visit.remove(min_node)\n",
    "        for node in nodes_to_visit:\n",
    "            dist = distances[min_node] + sol.graph[min_node, node]\n",
    "            if dist < distances[node]:\n",
    "                distances[node] = dist\n",
    "                \n",
    "    raise Exception(\"Dijkstra has failed us :( XD ...\")"
   ]
  },
  {
   "cell_type": "markdown",
   "metadata": {
    "colab_type": "text",
    "id": "9pjLMOpju-a9"
   },
   "source": [
    "Finally, we must implement the A* function that creates the solution tree and performs the search. To implement the search, we will use a priority queue data structure (heap) to automatically select the solution $S_b$ from $\\mathcal{T}$.\n",
    "\n",
    "**Implementation guidelines**:\n",
    "  - While a complete solution is not selected from the search tree $\\mathcal{T}$ do:\n",
    "      - Selected the top solution of the heap.\n",
    "      - Perform step 3 described above\n",
    "  - Return the optimal solution obtained."
   ]
  },
  {
   "cell_type": "code",
   "execution_count": 8,
   "metadata": {
    "colab": {},
    "colab_type": "code",
    "id": "D6e45uNMvanU"
   },
   "outputs": [],
   "source": [
    "def A_star(graph, places, dijkstra):\n",
    "    \"\"\"\n",
    "    Performs the A* algorithm\n",
    "    \"\"\"\n",
    "    # blank solution\n",
    "    root = Solution(graph=graph, places=places)\n",
    "\n",
    "    # search tree T\n",
    "    T = []\n",
    "    heapq.heapify(T)\n",
    "    heapq.heappush(T, root)\n",
    "    while len(T) > 0:\n",
    "        current_solution = heapq.heappop(T)\n",
    "\n",
    "        if len(current_solution.visited) == len(places) - 1:\n",
    "            current_solution.add(0)\n",
    "            heapq.heappush(T, current_solution)\n",
    "        elif len(current_solution.visited) == len(places) :\n",
    "            return current_solution\n",
    "        else:\n",
    "            for idx in range(0, len(current_solution.not_visited) - 1):\n",
    "                new_sol = copy.deepcopy(current_solution)\n",
    "                new_sol.add(idx)\n",
    "                # Dijsktra\n",
    "                if dijkstra:\n",
    "                    new_sol.h = fastest_path_estimation(new_sol)\n",
    "                # Edmonds\n",
    "                else:\n",
    "                    new_sol.h = minimum_spanning_arborescence(new_sol)\n",
    "                heapq.heappush(T, new_sol)\n",
    "\n",
    "    raise Exception(\"A_star has failed us :( XD ...\")"
   ]
  },
  {
   "cell_type": "markdown",
   "metadata": {
    "colab_type": "text",
    "id": "T2NhBa4GsoAP"
   },
   "source": [
    "### 2.2 Experiments\n",
    "\n",
    "To test our A* algorithm, a fourth experiment with 15 attractions was included in the set of experiments. Once again, for each test, report the time of execution and the number of nodes explored in the search. "
   ]
  },
  {
   "cell_type": "code",
   "execution_count": 9,
   "metadata": {
    "colab": {},
    "colab_type": "code",
    "id": "H1lFkJPJBcR3"
   },
   "outputs": [
    {
     "name": "stdout",
     "output_type": "stream",
     "text": [
      "27\n",
      "[0, 5, 13, 16, 6, 9, 4]\n",
      "--- 0.018535375595092773 seconds ---\n"
     ]
    }
   ],
   "source": [
    "#test 1  --------------  OPT. SOL. = 27\n",
    "start_time = time.time()\n",
    "places=[0, 5, 13, 16, 6, 9, 4]\n",
    "astar_sol = A_star(graph=graph, places=places, dijkstra=True)\n",
    "print(astar_sol.g)\n",
    "print(astar_sol.visited)\n",
    "print(\"--- %s seconds ---\" % (time.time() - start_time))"
   ]
  },
  {
   "cell_type": "code",
   "execution_count": 10,
   "metadata": {
    "colab": {},
    "colab_type": "code",
    "id": "Yn9mUPhBB9hv"
   },
   "outputs": [
    {
     "name": "stdout",
     "output_type": "stream",
     "text": [
      "30\n",
      "[0, 1, 4, 5, 9, 13, 16, 18, 20, 19]\n",
      "--- 0.19760894775390625 seconds ---\n"
     ]
    }
   ],
   "source": [
    "#test 2  --------------  OPT. SOL. = 30\n",
    "start_time = time.time()\n",
    "places=[0, 1, 4, 9, 20, 18, 16, 5, 13, 19]\n",
    "astar_sol = A_star(graph=graph, places=places, dijkstra=True)\n",
    "print(astar_sol.g)\n",
    "print(astar_sol.visited)\n",
    "print(\"--- %s seconds ---\" % (time.time() - start_time))"
   ]
  },
  {
   "cell_type": "code",
   "execution_count": 11,
   "metadata": {
    "colab": {},
    "colab_type": "code",
    "id": "ZX5SD5CRBfKg"
   },
   "outputs": [
    {
     "name": "stdout",
     "output_type": "stream",
     "text": [
      "26\n",
      "[0, 2, 7, 7, 9, 13, 15, 16, 11, 8, 4]\n",
      "--- 0.3690047264099121 seconds ---\n"
     ]
    }
   ],
   "source": [
    "#test 3  --------------  OPT. SOL. = 26\n",
    "start_time = time.time()\n",
    "places=[0, 2, 7, 13, 11, 16, 15, 7, 9, 8, 4]\n",
    "astar_sol = A_star(graph=graph, places=places, dijkstra=True)\n",
    "print(astar_sol.g)\n",
    "print(astar_sol.visited)\n",
    "print(\"--- %s seconds ---\" % (time.time() - start_time))"
   ]
  },
  {
   "cell_type": "code",
   "execution_count": 12,
   "metadata": {},
   "outputs": [
    {
     "name": "stdout",
     "output_type": "stream",
     "text": [
      "40\n",
      "[0, 3, 5, 13, 15, 18, 20, 16, 11, 12, 14, 9, 4, 2, 1]\n",
      "--- 682.5311272144318 seconds ---\n"
     ]
    }
   ],
   "source": [
    "#test 4  --------------  OPT. SOL. = 40\n",
    "start_time = time.time()\n",
    "places=[0, 2, 20, 3, 18, 12, 13, 5, 11, 16, 15, 4, 9, 14, 1]\n",
    "astar_sol = A_star(graph=graph, places=places, dijkstra=True)\n",
    "print(astar_sol.g)\n",
    "print(astar_sol.visited)\n",
    "print(\"--- %s seconds ---\" % (time.time() - start_time))"
   ]
  },
  {
   "cell_type": "markdown",
   "metadata": {},
   "source": [
    "### 2.3 A tighter lower bound\n",
    "\n",
    "While the estimated cost of the fastest path helped the $A*$ algorithm to solve problems with a larger number of attractions, this lower bound does not takes into consideration the cost of visiting the other vertices in $P\\backslash V(S)$. A better estimation for our problem can be given by the **spanning arborescence of minimum weight** (this is the minimum spanning tree version for directed graphs) for the graph $G_S$ induced by the set of vertices $P\\backslash V(S) \\cup \\{c\\} $. This problem seeks to create a tree rooted in a defined vertex, $r$, that visits all vertices of the graph with minimum cost.\n",
    "\n",
    "For our problem, one could define the root vertex as the current vertex of the solution, $r = c$, and compute the sum of costs required to reach the vertices $P\\backslash V(S)$. A classical procedure to solve this problem is the [Edmonds's algorithm](https://en.wikipedia.org/wiki/Edmonds%27_algorithm). Our task now is to implement this algorithm and use it as a new estimation cost, $h(S)$. After that, re-run the experiments in Section 2.2 and report the gains, concerning both the execution times and the number of explored nodes.\n",
    "\n",
    "\n"
   ]
  },
  {
   "cell_type": "code",
   "execution_count": 13,
   "metadata": {},
   "outputs": [],
   "source": [
    "def minimum_spanning_arborescence(sol):\n",
    "    root = sol.visited[-1]\n",
    "    nodes = set()\n",
    "    edges = set()\n",
    "    idx = 0\n",
    "    vertexes = set()\n",
    "    for vertex in sol.not_visited:\n",
    "        found = False\n",
    "        for vert in vertexes:\n",
    "            if vert.id == vertex:\n",
    "                found = True\n",
    "        if not found:\n",
    "            vertexes.add(Node(vertex))\n",
    "\n",
    "    root_in_vertices = False\n",
    "    for vert in vertexes:\n",
    "        if vert.id == root:\n",
    "            root_in_vertices = True\n",
    "    if not root_in_vertices:\n",
    "        vertexes.add(Node(root))\n",
    "    for start_vertex in vertexes:\n",
    "        for end_vertex in vertexes:\n",
    "            if start_vertex != end_vertex and end_vertex.id != root:\n",
    "                edge = Edge(idx, start_vertex, end_vertex, sol.graph[start_vertex.id, end_vertex.id])\n",
    "                edges.add(edge)\n",
    "                idx += 1\n",
    "        nodes.add(start_vertex)\n",
    "    tree = Tree(nodes, edges)\n",
    "    id_vertex = max(vertexes, key=lambda x: x.id).id + 1\n",
    "    id_edge = idx\n",
    "\n",
    "    min_span_tree = recursive_edmonds(tree, root, id_vertex, id_edge)\n",
    "    \n",
    "    cost = 0\n",
    "    for edge in min_span_tree.edges:\n",
    "        cost += edge.cost\n",
    "        \n",
    "    return cost\n",
    "\n",
    "\n",
    "def recursive_edmonds(tree, root, id_vertex, id_edge):\n",
    "    best_in_edges = {}\n",
    "    kicks_out = {}\n",
    "    real = {}\n",
    "    for vertex in tree.nodes:\n",
    "        if vertex.id != root:\n",
    "            min_edge = None\n",
    "            min_cost = MAX\n",
    "            for edge in tree.edges:\n",
    "                if edge.end == vertex and edge.cost < min_cost:\n",
    "                    min_cost = edge.cost\n",
    "                    min_edge = edge\n",
    "            best_in_edges[vertex] = min_edge\n",
    "            \n",
    "            # look for cycle\n",
    "            start_node = vertex\n",
    "            cycle = [start_node]\n",
    "            cycle_edges = []\n",
    "            cycle_found = False\n",
    "            while start_node is not None and not cycle_found:\n",
    "                from_node = best_in_edges[start_node].start\n",
    "                if from_node in best_in_edges:\n",
    "                    cycle_edges.append(best_in_edges[start_node])\n",
    "                    start_node = from_node\n",
    "                    cycle.append(start_node)\n",
    "                else:\n",
    "                    start_node = None\n",
    "                if start_node == vertex:\n",
    "                    cycle_found = True\n",
    "                    cycle.pop()\n",
    "                   \n",
    "            if cycle_found:\n",
    "                new_vertex = Node(id_vertex)\n",
    "                id_vertex += 1\n",
    "                subtree = Tree(set(), set())\n",
    "                for node in tree.nodes:\n",
    "                    if node not in cycle:\n",
    "                        subtree.add_node(node)\n",
    "                subtree.add_node(new_vertex)\n",
    "                sub_edges = set()\n",
    "                for edge in tree.edges:\n",
    "                    new_edge = Edge(0, 0, 0, 0)\n",
    "                    if edge.start not in cycle and edge.end not in cycle:\n",
    "                        new_edge.update(id_edge, edge.start, edge.end, edge.cost)\n",
    "                        id_edge += 1\n",
    "                        real[new_edge] = edge\n",
    "                        sub_edges.add(new_edge)\n",
    "                    elif edge.start in cycle and edge.end not in cycle:\n",
    "                        new_edge.update(id_edge, new_vertex, edge.end, edge.cost)\n",
    "                        id_edge += 1\n",
    "                        real[new_edge] = edge\n",
    "                        sub_edges.add(new_edge)\n",
    "                    elif edge.start not in cycle and edge.end in cycle:\n",
    "                        new_edge.update(id_edge, edge.start, new_vertex, edge.cost)\n",
    "                        kicks_out[new_edge] = best_in_edges[edge.end]\n",
    "                        new_edge.cost -= best_in_edges[edge.end].cost\n",
    "                        id_edge += 1\n",
    "                        real[new_edge] = edge\n",
    "                        sub_edges.add(new_edge)\n",
    "\n",
    "                subtree.edges = sub_edges\n",
    "                arborescence = recursive_edmonds(subtree, root, id_vertex, id_edge)\n",
    "                \n",
    "                return_tree = Tree(set(), set())\n",
    "                \n",
    "                kicked_out = None\n",
    "                for edge in arborescence.edges:\n",
    "                    if edge in real:\n",
    "                        real_edge = real[edge]\n",
    "                        if real_edge.start not in return_tree.nodes:\n",
    "                            return_tree.add_node(real_edge.start)\n",
    "                        if real_edge.end not in return_tree.nodes:\n",
    "                            return_tree.add_node(real_edge.end)\n",
    "                        if real_edge not in return_tree.edges:\n",
    "                            return_tree.add_edge(real_edge)\n",
    "                    if edge.end == new_vertex:\n",
    "                        kicked_out = kicks_out[edge]\n",
    "                for edge in tree.edges:\n",
    "                    if edge in cycle_edges and edge != kicked_out:\n",
    "                        if edge.start not in return_tree.nodes:\n",
    "                            return_tree.add_node(edge.start)\n",
    "                        if edge.end not in return_tree.nodes:\n",
    "                            return_tree.add_node(edge.end)\n",
    "                        return_tree.add_edge(edge)\n",
    "                return return_tree\n",
    "        \n",
    "    cycle_free_tree = Tree(set(), set())\n",
    "    for node, in_edge in best_in_edges.items():\n",
    "        if node not in cycle_free_tree.nodes:\n",
    "            cycle_free_tree.add_node(node)\n",
    "        if in_edge.start not in cycle_free_tree.nodes:\n",
    "            cycle_free_tree.add_node(in_edge.start)\n",
    "        cycle_free_tree.add_edge(in_edge)\n",
    "    return cycle_free_tree"
   ]
  },
  {
   "cell_type": "code",
   "execution_count": 18,
   "metadata": {},
   "outputs": [
    {
     "name": "stdout",
     "output_type": "stream",
     "text": [
      "27\n",
      "[0, 5, 13, 16, 6, 9, 4]\n",
      "--- 0.038455963134765625 seconds ---\n"
     ]
    }
   ],
   "source": [
    "#test 1  --------------  OPT. SOL. = 27\n",
    "start_time = time.time()\n",
    "places=[0, 5, 13, 16, 6, 9, 4]\n",
    "astar_sol = A_star(graph=graph, places=places, dijkstra=False)\n",
    "print(astar_sol.g)\n",
    "print(astar_sol.visited)\n",
    "print(\"--- %s seconds ---\" % (time.time() - start_time))"
   ]
  },
  {
   "cell_type": "code",
   "execution_count": 19,
   "metadata": {},
   "outputs": [
    {
     "name": "stdout",
     "output_type": "stream",
     "text": [
      "30\n",
      "[0, 1, 4, 5, 9, 13, 16, 18, 20, 19]\n",
      "--- 0.051953792572021484 seconds ---\n"
     ]
    }
   ],
   "source": [
    "#test 2  --------------  OPT. SOL. = 30\n",
    "start_time = time.time()\n",
    "places=[0, 1, 4, 9, 20, 18, 16, 5, 13, 19]\n",
    "astar_sol = A_star(graph=graph, places=places, dijkstra=False)\n",
    "print(astar_sol.g)\n",
    "print(astar_sol.visited)\n",
    "print(\"--- %s seconds ---\" % (time.time() - start_time))"
   ]
  },
  {
   "cell_type": "code",
   "execution_count": 20,
   "metadata": {},
   "outputs": [
    {
     "name": "stdout",
     "output_type": "stream",
     "text": [
      "26\n",
      "[0, 2, 7, 7, 9, 13, 15, 16, 11, 8, 4]\n",
      "--- 0.064422607421875 seconds ---\n"
     ]
    }
   ],
   "source": [
    "#test 3  --------------  OPT. SOL. = 26\n",
    "start_time = time.time()\n",
    "places=[0, 2, 7, 13, 11, 16, 15, 7, 9, 8, 4]\n",
    "astar_sol = A_star(graph=graph, places=places, dijkstra=False)\n",
    "print(astar_sol.g)\n",
    "print(astar_sol.visited)\n",
    "print(\"--- %s seconds ---\" % (time.time() - start_time))"
   ]
  },
  {
   "cell_type": "code",
   "execution_count": 21,
   "metadata": {},
   "outputs": [
    {
     "name": "stdout",
     "output_type": "stream",
     "text": [
      "40\n",
      "[0, 3, 13, 15, 18, 20, 16, 11, 12, 14, 9, 5, 4, 2, 1]\n",
      "--- 21.130451679229736 seconds ---\n"
     ]
    }
   ],
   "source": [
    "#test 4  --------------  OPT. SOL. = 40\n",
    "start_time = time.time()\n",
    "places=[0, 2, 20, 3, 18, 12, 13, 5, 11, 16, 15, 4, 9, 14, 1]\n",
    "astar_sol = A_star(graph=graph, places=places, dijkstra=False)\n",
    "print(astar_sol.g)\n",
    "print(astar_sol.visited)\n",
    "print(\"--- %s seconds ---\" % (time.time() - start_time))"
   ]
  },
  {
   "cell_type": "code",
   "execution_count": 1,
   "metadata": {},
   "outputs": [
    {
     "data": {
      "text/plain": [
       "\"\\nComparaison Dijkstra - Edmond\\nTest 1: 0.0185s - 0.0385s\\nTest 2: 0.1976s - 0.0519s\\nTest 3: 0.3690s - 0.0644s\\nTest 4: 682.53s - 21.23s\\n\\nÀ l'exception du test 1, Edmond a des temps inférieurs pour A* que Dijkstra\\n\""
      ]
     },
     "execution_count": 1,
     "metadata": {},
     "output_type": "execute_result"
    }
   ],
   "source": [
    "'''\n",
    "Comparaison Dijkstra - Edmond\n",
    "Test 1: 0.0185s - 0.0385s\n",
    "Test 2: 0.1976s - 0.0519s\n",
    "Test 3: 0.3690s - 0.0644s\n",
    "Test 4: 682.53s - 21.23s\n",
    "\n",
    "À l'exception du test 1, Edmond a des temps inférieurs pour A* que Dijkstra\n",
    "'''"
   ]
  },
  {
   "cell_type": "markdown",
   "metadata": {
    "colab_type": "text",
    "id": "r9oJnFHbxrvj"
   },
   "source": [
    "## 2. Optimizing with a VNS heuristic (7.5 points)\n",
    "\n",
    "This time, instead of building a solution from scratch by gradually adding arcs to the solution,  our [Variable Neighborhood Search](https://en.wikipedia.org/wiki/Variable_neighborhood_search) (VNS) method will start from a complete initial solution and performs successively swaps on the order in which the attractions are visited to improve the cost of the solution. \n",
    "\n",
    "<img src=\"images/vns.png\" alt=\"\" width=\"800\"/>\n",
    "\n",
    "### 2.1 Time to code\n",
    "\n",
    "Our first implementation task is to construct an initial solution to work with during the search. This solution must be complete, i.e., we must create an ordered set of visited vertex $V(S)$ such that it starts in $p_1$ and finishes in $p_m$. A simple approach to this end is to use a [Depth-First Seach (DFS)](https://moodle.polymtl.ca/pluginfile.php/445484/mod_resource/content/1/recherche_en_profondeur.mp4). The starting point is the vertex representing $p_1$ and, as soon as the ending point is reached after visiting all the others attractions of $P$, the path can be turned into an initial solution. To help in diversifying the search, the method to generate an initial solution can be randomized such that the VNS algorithm can start the search in different regions of the solution space. Thus, in the DFS function, the selection of the child to continue the search must be random.\n",
    "\n",
    "Now. implement the **initial_sol** method to construct a random initial solution and uses the **dfs** function to find a path from $p_1$ to $p_m$.\n",
    "\n",
    "\n",
    "\n",
    "**Implementation guidelines**:\n",
    "  - Call the dfs function to find a complete path from  $p_1$ to $p_m$.\n",
    "  - Create a root solution\n",
    "  - Adjust the solution cost and the set V with the path found\n",
    "  - Return the solution created\n",
    "\n"
   ]
  },
  {
   "cell_type": "code",
   "execution_count": 28,
   "metadata": {
    "colab": {},
    "colab_type": "code",
    "id": "JKx9Z-ayxzSw"
   },
   "outputs": [],
   "source": [
    "import random\n",
    "from random import shuffle, randint\n",
    "\n",
    "def initial_sol(graph, places):\n",
    "    \"\"\"\n",
    "    Return a completed initial solution\n",
    "    \"\"\"\n",
    "    return dfs(graph, places)\n",
    "\n",
    "def dfs(graph, places):\n",
    "    \"\"\"\n",
    "    Returns the best solution which spans over all attractions indicated in 'places'\n",
    "    \"\"\"\n",
    "    solution = Solution(places, graph)\n",
    "    return_sol = copy.deepcopy(solution)\n",
    "    return_sol.g = np.iinfo(np.int32).max\n",
    "    solutions = list()\n",
    "    solutions.append(solution)\n",
    "    while len(solutions) > 0:\n",
    "        current_solution = solutions.pop()\n",
    "\n",
    "        if len(current_solution.visited) == len(places) - 1:\n",
    "            current_solution.add(0)\n",
    "            solutions.append(current_solution)\n",
    "        elif len(current_solution.visited) == len(places):\n",
    "            return current_solution\n",
    "        else:\n",
    "            temp_list = list()\n",
    "            for idx in range(0, len(current_solution.not_visited) - 1):\n",
    "                temp_list.append(idx)\n",
    "            random.shuffle(temp_list)\n",
    "            for idx in temp_list:\n",
    "                new_sol = copy.deepcopy(current_solution)\n",
    "                new_sol.add(idx)\n",
    "                solutions.append(new_sol)\n",
    "\n",
    "    raise Exception('Cuz I''m in too deep - Sum41')"
   ]
  },
  {
   "cell_type": "markdown",
   "metadata": {
    "colab_type": "text",
    "id": "JnTFBFqvXpNz"
   },
   "source": [
    "A key feature of the VNS metaheuristic is the ability to define $k_{max}$ neighborhoods to diversify the search and escape from local optima. For our problem, a simple and efficient neighborhood structure could be neighborhoods based on **swapping** the order in which two points are visited within the route. Thus, given a solution $S$, with $V(S)$ being the ordered set in which the points were visited, a solution on the $k$-th neighborhood of $S$ can be obtained by selecting $k$ *random* pairs of vertices, different from $p_1$ and $p_m$, and swap their position in $V(S)$.\n",
    "\n",
    "In the VNS framework, the procedure of generating a solution on the $k$-th neighborhood of $S$ is known as the **shaking** step. Thus, our task now is to implement this shaking method that receives a solution, the neighborhood index $k$ and the graph $G$ and returns a new solution on the $k$-th neighborhood of $S$. \n",
    "\n",
    "However, before implementing the shaking method below, we must first return to the implementation of class Solution and finish the **swap** method. This method is responsible for updating the position of the vertices being swapped in the $V(S)$ set and, consequentily, the solution cost. It receives the indices of the two selected vertices of $V(S)$ and the graph $G$.\n",
    "\n",
    "\n",
    "**Implementation guidelines (shaking)**:\n",
    "  - Select two indices, $i$ and $j$, such that $i \\neq j$ and $i, j \\in \\{2...m-1\\}$\n",
    "  - Make a copy of the $sol$ and perfom the swap\n",
    "  - Return the created solution"
   ]
  },
  {
   "cell_type": "code",
   "execution_count": 29,
   "metadata": {
    "colab": {},
    "colab_type": "code",
    "id": "EWLAhZUlfFOZ"
   },
   "outputs": [],
   "source": [
    "def shaking(sol, k):\n",
    "    \"\"\"\n",
    "    Returns a solution on the k-th neighrboohood of sol\n",
    "    \"\"\"\n",
    "    nb_swaps = 0\n",
    "    solutions = []\n",
    "    for nb_swaps in range (0,k):\n",
    "        max_id = len(sol.visited) - 2\n",
    "        id1 = random.randint(1, max_id)\n",
    "        id2 = -1\n",
    "        while id2 == -1 or id2 == id1:\n",
    "            id2 = random.randint(1, max_id)\n",
    "        new_sol = copy.deepcopy(sol)\n",
    "        new_sol.swap(id1, id2)\n",
    "        solutions.append(new_sol)\n",
    "        sol = new_sol\n",
    "    \n",
    "    return solutions.pop()"
   ]
  },
  {
   "cell_type": "markdown",
   "metadata": {
    "colab_type": "text",
    "id": "PD_PxV54sl1o"
   },
   "source": [
    "Another essential step in the VNS algorithm is to invoke a local search routine to improve the solution cost. For our problem, an efficient local search procedure would be to search for a pair of vertices, $i$ and $j$, such that their swapping position in $V(S)$ leads it to a reduction in the solution cost. This local search is known as 2-opt, and we are going to implement in this TP. \n",
    "\n",
    "Formally, consider a solution $S$ and the ordered set of vertices $V(S)$. For a vertex $i$, let $i'$ be the immediate successor of $i$ in the sequence $V(S)$. The 2-opt algorithm work as follows: for every  pair of non-consecutive vertices $i,j$, check if by swapping the position of vertices $i'$ and $j$ results in a improvement in the solution cost. If so, perform this swap. This process is repeated until there are no more profitable exchanges. The 2-opt heuristic is illustrated in the figure below. \n",
    "\n",
    "\n",
    "<img src=\"images/2opt.png\" alt=\"\" width=\"800\"/>\n",
    "\n",
    "<img src=\"images/2opt2.png\" alt=\"\" width=\"800\"/>\n",
    "\n",
    "\n",
    "\n",
    "Now implement the **local_search_2opt** fuction below. \n",
    "\n",
    "\n",
    "\n",
    "**Implementation guidelines**:\n",
    "  - Check every pair of indices, $i = \\{2,..,m-3\\}$ and $j = \\{i+2, m-1\\}$ for a improvement in the solution cost\n",
    "  - If the exchange is profitable, perform it\n",
    "  - Repeat the process until no more profitable swap can be found"
   ]
  },
  {
   "cell_type": "code",
   "execution_count": 30,
   "metadata": {
    "colab": {},
    "colab_type": "code",
    "id": "_97d-BQV8tzt"
   },
   "outputs": [],
   "source": [
    "def local_search_2opt(sol):\n",
    "    \"\"\"\n",
    "    Apply 2-opt local search over sol\n",
    "    \"\"\"\n",
    "    new_sol = copy.deepcopy(sol)\n",
    "    profitable_swap_found = True\n",
    "    while profitable_swap_found:\n",
    "        profitable_swap_found = False\n",
    "        for id1 in range (1, len(sol.visited) - 3):\n",
    "            for id2 in range(id1 + 2, len(sol.visited) - 1):\n",
    "                if id1 != id2:\n",
    "                    temp_sol = copy.deepcopy(new_sol)\n",
    "                    temp_sol.swap(id1, id2)\n",
    "                    if temp_sol.g < new_sol.g:\n",
    "                        new_sol = temp_sol\n",
    "                        profitable_swap_found = True\n",
    "                        \n",
    "    return new_sol"
   ]
  },
  {
   "cell_type": "markdown",
   "metadata": {
    "colab_type": "text",
    "id": "ZPG90m1g_HgA"
   },
   "source": [
    "Finally, our last implementation step is to code the VNS algorithm itself. The method receives an initial solution  and returns the best solution found during the search. Alongside the solution and the graph, the method also receives two other parameters: $k_{max} $, which defines the number of neighborhoods; and $t_{max}$, which sets the time limit to run the heuristic.\n",
    "\n",
    "\n",
    "**Implementation guidelines**:\n",
    "  - At each iteration of the VNS, generate a solution on the k-th neighrborhood of the current best solution and apply a local search on it.\n",
    "  - If the new solution has a better cost than the current best solution, update the best solution with the new found solution. \n",
    "  - Repeat the process until the time limit is met"
   ]
  },
  {
   "cell_type": "code",
   "execution_count": 31,
   "metadata": {
    "colab": {},
    "colab_type": "code",
    "id": "ZQwCN2HB_m-q"
   },
   "outputs": [],
   "source": [
    "def vns(sol, k_max, t_max):\n",
    "    \"\"\"\n",
    "    Performs the VNS algorithm\n",
    "    \"\"\"\n",
    "    start_time = time.time()  \n",
    "    current_best_sol = sol\n",
    "    while t_max > time.time() - start_time:\n",
    "        new_sol = shaking(current_best_sol, k_max)\n",
    "        new_sol = local_search_2opt(new_sol)\n",
    "        if new_sol.g < current_best_sol.g:\n",
    "            current_best_sol = new_sol\n",
    "            \n",
    "    return current_best_sol"
   ]
  },
  {
   "cell_type": "markdown",
   "metadata": {
    "colab_type": "text",
    "id": "z5TPMN2XCkPc"
   },
   "source": [
    "### 2.2 Experiments\n",
    "\n",
    "Run the VNS on the following illustrative examples and report the obtained solutions:"
   ]
  },
  {
   "cell_type": "code",
   "execution_count": 32,
   "metadata": {
    "colab": {},
    "colab_type": "code",
    "id": "Ox0PScj5CTzq"
   },
   "outputs": [
    {
     "name": "stdout",
     "output_type": "stream",
     "text": [
      "27\n",
      "[0, 5, 13, 16, 6, 9, 4]\n",
      "--- 1.000842809677124 seconds ---\n"
     ]
    }
   ],
   "source": [
    "# test 1  --------------  OPT. SOL. = 27\n",
    "places=[0, 5, 13, 16, 6, 9, 4]\n",
    "sol = initial_sol(graph=graph, places=places)\n",
    "start_time = time.time()\n",
    "vns_sol = vns(sol=sol, k_max=10, t_max=1)\n",
    "print(vns_sol.g)\n",
    "print(vns_sol.visited)\n",
    "print(\"--- %s seconds ---\" % (time.time() - start_time))"
   ]
  },
  {
   "cell_type": "code",
   "execution_count": 33,
   "metadata": {
    "colab": {},
    "colab_type": "code",
    "id": "a5IB2FbqCTz3"
   },
   "outputs": [
    {
     "name": "stdout",
     "output_type": "stream",
     "text": [
      "30\n",
      "[0, 1, 4, 5, 9, 13, 16, 18, 20, 19]\n",
      "--- 1.0033533573150635 seconds ---\n"
     ]
    }
   ],
   "source": [
    "#test 2  --------------  OPT. SOL. = 30\n",
    "places=[0, 1, 4, 9, 20, 18, 16, 5, 13, 19]\n",
    "sol = initial_sol(graph=graph, places=places)\n",
    "\n",
    "start_time = time.time()\n",
    "vns_sol = vns(sol=sol, k_max=10, t_max=1)\n",
    "print(vns_sol.g)\n",
    "print(vns_sol.visited)\n",
    "\n",
    "print(\"--- %s seconds ---\" % (time.time() - start_time))"
   ]
  },
  {
   "cell_type": "code",
   "execution_count": 34,
   "metadata": {
    "colab": {},
    "colab_type": "code",
    "id": "nkNwTmxPCTz9"
   },
   "outputs": [
    {
     "name": "stdout",
     "output_type": "stream",
     "text": [
      "26\n",
      "[0, 2, 7, 7, 9, 13, 15, 16, 11, 8, 4]\n",
      "--- 1.0005698204040527 seconds ---\n"
     ]
    }
   ],
   "source": [
    "# test 3  --------------  OPT. SOL. = 26\n",
    "places=[0, 2, 7, 13, 11, 16, 15, 7, 9, 8, 4]\n",
    "sol = initial_sol(graph=graph, places=places)\n",
    "\n",
    "start_time = time.time()\n",
    "vns_sol = vns(sol=sol, k_max=10, t_max=1)\n",
    "print(vns_sol.g)\n",
    "print(vns_sol.visited)\n",
    "print(\"--- %s seconds ---\" % (time.time() - start_time))"
   ]
  },
  {
   "cell_type": "code",
   "execution_count": 35,
   "metadata": {},
   "outputs": [
    {
     "name": "stdout",
     "output_type": "stream",
     "text": [
      "40\n",
      "[0, 3, 5, 14, 12, 13, 15, 18, 20, 16, 11, 9, 4, 2, 1]\n",
      "--- 1.00700044631958 seconds ---\n"
     ]
    }
   ],
   "source": [
    "# test 4  --------------  OPT. SOL. = 40\n",
    "places=[0, 2, 20, 3, 18, 12, 13, 5, 11, 16, 15, 4, 9, 14, 1]\n",
    "sol = initial_sol(graph=graph, places=places)\n",
    "\n",
    "start_time = time.time()\n",
    "vns_sol = vns(sol=sol, k_max=10, t_max=1)\n",
    "print(vns_sol.g)\n",
    "print(vns_sol.visited)\n",
    "print(\"--- %s seconds ---\" % (time.time() - start_time))"
   ]
  },
  {
   "cell_type": "markdown",
   "metadata": {},
   "source": [
    "## 4. BONUS SECTION (1 point)\n",
    "\n",
    "Explain in which situation each of the developed algorithms is more appropriate (hint: take into consideration the scalability of the problem)"
   ]
  },
  {
   "cell_type": "code",
   "execution_count": 2,
   "metadata": {},
   "outputs": [
    {
     "data": {
      "text/plain": [
       "\"\\n** Fichier PDF dans l'archive remise **\\n--ENGLISH VERSION FOLLOWS--\\nDans la plupart des cas, lorsque l'arbre de recherche est équilibré, il semble peu probable que la recherche en largeur soit supérieure en termes de performance. En fait, si toutes les feuilles se trouvent au même niveau, une recherche en largeurva toujours explorer l'arbre dans son entièreté avant de retourner une solution. Il s'agit alors d'un O(bm), où b est le nombre d'enfants que chaque noeud possède, et m est le nombre d'étages de l'arbre. Une recherche en largeurpeut toutefois être utile si l'arbre n'est pas équilibré, si aucune bone heuristique n'est trouvée (voir ci-dessous), or si la solution optimale se trouve sur l'une des branches les plus courtes de l'arbre. Par exemple, si on souhaite se rendre de A vers B sur une grille infinie où toutes les intersections de la grille sont des noeuds et la distance entre chaque noeud est constante, il est évident que le chemin le plus court serait celui passant par le plus petit nombre de noeuds; c'est d'ailleurs la solution qu'on obtiendrait avec le recherche en largeur. Toutefois, comme la recherche en largeur explorer la même distance dans toutes les directions, on pourrait alors trouver un moyen plus efficace de trouver une solution en obtenant une idée générale de la direction à prioriser.\\nL'algorithme A* utilise une heuristique qui permet ainsi de s'orienter dans la bonne direction, offrant ainsi une performance supérieure à la recherche en largeur lorsque l'heuristique est bonne. Une bonne heuristique en est une qui peut être calculée relativement rapidement et qui permet de pointer dans une bonne direction avec une forte probabilité; une mauvaise heuristique, par exemple, en serait une qui explore elle-même l'arbre de recherche dans son entièreté. La première heuristique implémentée dans le cadre du laboratoire est celle de Dijkstra. Elle a permis d'obtenir une solution beaucoup plus rapidement que celle implémentée avec la recherche ne largeur. Selon nous, ce résultat peut s'étendre à la majorité des cas semblables à celui étudié pour les raisons mentionnées ci-dessus. La deuxième heuristique implémentée, soit l'algorithme d'Edmond, a offert des résultats encore supérieurs à ceux avec Dijkstra. Si les deux heuristiques étaient des aussi bons indicateurs de la direction à prioriser, ce qui n'est pas la cas ici avec Edmond étant légèrement supérieur, alors l'élément différentiatif entre les deux serait la complexité de l'algorithme et le temps d'exécution. Dans cette situation, Dijkstra serait à favoriser, offrant un temps d'exécution de O(E + VlogV), contrairement à O(EV).\\nEnfin, la recherche par voisinage variable (VNS) est une alternative intéressante. Elle a l'avantage de permetre de trouver une solution très rapidement, puis d'essayer d'améliorer cette solution. Selon nous, si on cherche simplement une bonne solution, mais pas nécessairement la meilleure solution, globalement, le VNS est la méthode qui se généralise le plus aux problèmes à plus grande échelle. En fait, pour un graphe très grand, A* ou la recherche en largeur sont excessivement exigeants au niveau de l'utilisation de la mémoire et du processeur (CPU), alors que le VNS permet de trouver une solution généralement bonne en un temps décent. Aussi, l'algorithme possède la propriété intéressante qu'il est possible de l'arrêter à tout moment afin d'obtenir la meilleure solution trouvée jusqu'à présent.\\n\\nFor most cases where the search tree is well balanced, it seems unlikely that the BFS algorithm might be superior in terms of performance. In fact, if all leaves are found at the same level, a breadth-first search will have to look through almost the entire tree before returning its solution. This would be O(bm), where b is the number of children each node has, and m is the number of levels the tree has. A BFS could prove useful in cases where the tree is seriously unbalanced, no good heuristics have been found, and especially if the best solutions tend to be leaves to the shortest branches. An example of this would be a case where something needs to go from A to B on an infinite grid where all the intersections on the grid are considered nodes, and the distance between each node is constant. Clearly, the best (shortest) path would be the one that requires passing through the smallest number of nodes (shortest branch of the search tree), and that is in fact the solution a BFS would return. Again however, that would only be acceptable if there were no good known heuristics to use, because until a BFS finds a solution, it will have looked at the same depth in all different directions, when there are normally simple ways to get a general idea of the direction to prioritize.\\nThe A* star incorporates a heuristic which taps into the aforementioned idea of prioritizing a direction that is likely to lead to the solution faster. When that heuristic is good, this will generally prove far superior to a BFS for instance. Here we define a “good” heuristic as one that can be computed rather fast (an extreme counter-example would be a “heuristic” which itself searches the whole tree, ultimately leading to no gain whatsoever), and which has a very high probability of pointing in a direction that leads to a decent, if not optimal, solution. The first heuristic we implemented for our A* algorithm, the fastest path to endpoint (Dijkstra algorithm), has proved able to find a solution much faster than a BFS. We believe this finding would extend to most cases similar to the one studied for reasons explained in the paragraph on BFS. Evidently though, the fastest path to endpoint can be misleading, as it does not account for all the other nodes to visit before reaching the arrival. It is in that sense that the other heuristic we implemented for A*, the minimal spanning tree, is preferable, and does in fact prove faster in our tests. If both heuristics were about equally good indicators of the direction to prioritize, then the differentiating factor would be their own algorithmic complexity. That would normally crown Dijkstra instead, which typically runs in O(E + V log V) as opposed to O(EV).12\\nFinally, the variable neighborhood search (VNS) is an interesting alternative. It has the advantage of allowing for a complete solution very quickly, before going on to improve it. We are inclined to believe that, granted we do not need the globally optimal solution, it is the most scalable of the algorithms we implemented in this lab. In fact, finding the fastest path or a minimal spanning tree at every iteration of an A* run (or worse, performing a BFS) on a massive graph seems quite dreadful in terms of CPU usage. However, a metaheuristic such as VNS can find an acceptable solution in a decent amount of time. Furthermore, the VNS has the interesting property that a time limit for convergence can be set, since at any given time, it holds a complete best solution so far.\\n1 https://en.wikipedia.org/wiki/Edmonds%27_algorithm\\n2 https://en.wikipedia.org/wiki/Dijkstra%27s_algorithm\\n\""
      ]
     },
     "execution_count": 2,
     "metadata": {},
     "output_type": "execute_result"
    }
   ],
   "source": [
    "'''\n",
    "** Fichier PDF dans l'archive remise **\n",
    "--ENGLISH VERSION FOLLOWS--\n",
    "Dans la plupart des cas, lorsque l'arbre de recherche est équilibré, il semble peu probable que la recherche en largeur soit supérieure en termes de performance. En fait, si toutes les feuilles se trouvent au même niveau, une recherche en largeurva toujours explorer l'arbre dans son entièreté avant de retourner une solution. Il s'agit alors d'un O(bm), où b est le nombre d'enfants que chaque noeud possède, et m est le nombre d'étages de l'arbre. Une recherche en largeurpeut toutefois être utile si l'arbre n'est pas équilibré, si aucune bone heuristique n'est trouvée (voir ci-dessous), or si la solution optimale se trouve sur l'une des branches les plus courtes de l'arbre. Par exemple, si on souhaite se rendre de A vers B sur une grille infinie où toutes les intersections de la grille sont des noeuds et la distance entre chaque noeud est constante, il est évident que le chemin le plus court serait celui passant par le plus petit nombre de noeuds; c'est d'ailleurs la solution qu'on obtiendrait avec le recherche en largeur. Toutefois, comme la recherche en largeur explorer la même distance dans toutes les directions, on pourrait alors trouver un moyen plus efficace de trouver une solution en obtenant une idée générale de la direction à prioriser.\n",
    "L'algorithme A* utilise une heuristique qui permet ainsi de s'orienter dans la bonne direction, offrant ainsi une performance supérieure à la recherche en largeur lorsque l'heuristique est bonne. Une bonne heuristique en est une qui peut être calculée relativement rapidement et qui permet de pointer dans une bonne direction avec une forte probabilité; une mauvaise heuristique, par exemple, en serait une qui explore elle-même l'arbre de recherche dans son entièreté. La première heuristique implémentée dans le cadre du laboratoire est celle de Dijkstra. Elle a permis d'obtenir une solution beaucoup plus rapidement que celle implémentée avec la recherche ne largeur. Selon nous, ce résultat peut s'étendre à la majorité des cas semblables à celui étudié pour les raisons mentionnées ci-dessus. La deuxième heuristique implémentée, soit l'algorithme d'Edmond, a offert des résultats encore supérieurs à ceux avec Dijkstra. Si les deux heuristiques étaient des aussi bons indicateurs de la direction à prioriser, ce qui n'est pas la cas ici avec Edmond étant légèrement supérieur, alors l'élément différentiatif entre les deux serait la complexité de l'algorithme et le temps d'exécution. Dans cette situation, Dijkstra serait à favoriser, offrant un temps d'exécution de O(E + VlogV), contrairement à O(EV).\n",
    "Enfin, la recherche par voisinage variable (VNS) est une alternative intéressante. Elle a l'avantage de permetre de trouver une solution très rapidement, puis d'essayer d'améliorer cette solution. Selon nous, si on cherche simplement une bonne solution, mais pas nécessairement la meilleure solution, globalement, le VNS est la méthode qui se généralise le plus aux problèmes à plus grande échelle. En fait, pour un graphe très grand, A* ou la recherche en largeur sont excessivement exigeants au niveau de l'utilisation de la mémoire et du processeur (CPU), alors que le VNS permet de trouver une solution généralement bonne en un temps décent. Aussi, l'algorithme possède la propriété intéressante qu'il est possible de l'arrêter à tout moment afin d'obtenir la meilleure solution trouvée jusqu'à présent.\n",
    "\n",
    "For most cases where the search tree is well balanced, it seems unlikely that the BFS algorithm might be superior in terms of performance. In fact, if all leaves are found at the same level, a breadth-first search will have to look through almost the entire tree before returning its solution. This would be O(bm), where b is the number of children each node has, and m is the number of levels the tree has. A BFS could prove useful in cases where the tree is seriously unbalanced, no good heuristics have been found, and especially if the best solutions tend to be leaves to the shortest branches. An example of this would be a case where something needs to go from A to B on an infinite grid where all the intersections on the grid are considered nodes, and the distance between each node is constant. Clearly, the best (shortest) path would be the one that requires passing through the smallest number of nodes (shortest branch of the search tree), and that is in fact the solution a BFS would return. Again however, that would only be acceptable if there were no good known heuristics to use, because until a BFS finds a solution, it will have looked at the same depth in all different directions, when there are normally simple ways to get a general idea of the direction to prioritize.\n",
    "The A* star incorporates a heuristic which taps into the aforementioned idea of prioritizing a direction that is likely to lead to the solution faster. When that heuristic is good, this will generally prove far superior to a BFS for instance. Here we define a “good” heuristic as one that can be computed rather fast (an extreme counter-example would be a “heuristic” which itself searches the whole tree, ultimately leading to no gain whatsoever), and which has a very high probability of pointing in a direction that leads to a decent, if not optimal, solution. The first heuristic we implemented for our A* algorithm, the fastest path to endpoint (Dijkstra algorithm), has proved able to find a solution much faster than a BFS. We believe this finding would extend to most cases similar to the one studied for reasons explained in the paragraph on BFS. Evidently though, the fastest path to endpoint can be misleading, as it does not account for all the other nodes to visit before reaching the arrival. It is in that sense that the other heuristic we implemented for A*, the minimal spanning tree, is preferable, and does in fact prove faster in our tests. If both heuristics were about equally good indicators of the direction to prioritize, then the differentiating factor would be their own algorithmic complexity. That would normally crown Dijkstra instead, which typically runs in O(E + V log V) as opposed to O(EV).12\n",
    "Finally, the variable neighborhood search (VNS) is an interesting alternative. It has the advantage of allowing for a complete solution very quickly, before going on to improve it. We are inclined to believe that, granted we do not need the globally optimal solution, it is the most scalable of the algorithms we implemented in this lab. In fact, finding the fastest path or a minimal spanning tree at every iteration of an A* run (or worse, performing a BFS) on a massive graph seems quite dreadful in terms of CPU usage. However, a metaheuristic such as VNS can find an acceptable solution in a decent amount of time. Furthermore, the VNS has the interesting property that a time limit for convergence can be set, since at any given time, it holds a complete best solution so far.\n",
    "1 https://en.wikipedia.org/wiki/Edmonds%27_algorithm\n",
    "2 https://en.wikipedia.org/wiki/Dijkstra%27s_algorithm\n",
    "'''"
   ]
  },
  {
   "cell_type": "markdown",
   "metadata": {},
   "source": [
    "## 5 Due date\n",
    "The TP must be submitted before Octobre 6th 23h55.  Any late work will be penalized with a value of 10% per day of delay."
   ]
  },
  {
   "cell_type": "code",
   "execution_count": null,
   "metadata": {},
   "outputs": [],
   "source": []
  }
 ],
 "metadata": {
  "colab": {
   "name": "tp1_2018.ipynb",
   "provenance": [],
   "version": "0.3.2"
  },
  "kernelspec": {
   "display_name": "Python 3",
   "language": "python",
   "name": "python3"
  },
  "language_info": {
   "codemirror_mode": {
    "name": "ipython",
    "version": 3
   },
   "file_extension": ".py",
   "mimetype": "text/x-python",
   "name": "python",
   "nbconvert_exporter": "python",
   "pygments_lexer": "ipython3",
   "version": "3.5.2"
  }
 },
 "nbformat": 4,
 "nbformat_minor": 1
}
